{
 "cells": [
  {
   "cell_type": "markdown",
   "metadata": {},
   "source": [
    "# Machine learning for the working (biomedical) researcher\n",
    "### Marco Chierici\n",
    "### _Data scientist @ FBK/MPBA_\n"
   ]
  },
  {
   "cell_type": "markdown",
   "metadata": {},
   "source": [
    "In this handout we will go through basic concepts of machine learning using Scikit-learn and the SEQC neuroblastoma data set [Zhang et al, _Genome Biology_, 2015].\n",
    "\n",
    "In particular, we will focus on a subset of 272 samples (136 training, 136 test), aiming at predicting an extreme disease outcome (favorable vs unfavorable samples: see main paper)."
   ]
  },
  {
   "cell_type": "code",
   "execution_count": 1,
   "metadata": {
    "collapsed": true
   },
   "outputs": [],
   "source": [
    "# Import required packages\n",
    "import numpy as np\n",
    "import pandas as pd\n",
    "import matplotlib.pyplot as plt"
   ]
  },
  {
   "cell_type": "code",
   "execution_count": 2,
   "metadata": {
    "collapsed": true
   },
   "outputs": [],
   "source": [
    "# Display plots within the notebook\n",
    "%matplotlib inline"
   ]
  },
  {
   "cell_type": "markdown",
   "metadata": {},
   "source": [
    "Load the training set data:"
   ]
  },
  {
   "cell_type": "code",
   "execution_count": 3,
   "metadata": {
    "collapsed": true
   },
   "outputs": [],
   "source": [
    "data_tr = pd.read_csv(\"data/nb_train.txt.gz\", dtype=str, sep='\\t', index_col=0)"
   ]
  },
  {
   "cell_type": "markdown",
   "metadata": {},
   "source": [
    "Now let's have a look at the data. First, the dimensions:"
   ]
  },
  {
   "cell_type": "code",
   "execution_count": 4,
   "metadata": {},
   "outputs": [
    {
     "data": {
      "text/plain": [
       "(136, 16394)"
      ]
     },
     "execution_count": 4,
     "metadata": {},
     "output_type": "execute_result"
    }
   ],
   "source": [
    "data_tr.shape"
   ]
  },
  {
   "cell_type": "markdown",
   "metadata": {},
   "source": [
    "What's inside?\n",
    "\n",
    "A peek at the first rows reveals that the first column (the dataframe **index**) contains the sample IDs, the second column is the class (or target), and the remaining columns are genes:"
   ]
  },
  {
   "cell_type": "code",
   "execution_count": 5,
   "metadata": {
    "scrolled": true
   },
   "outputs": [
    {
     "data": {
      "text/html": [
       "<div>\n",
       "<style>\n",
       "    .dataframe thead tr:only-child th {\n",
       "        text-align: right;\n",
       "    }\n",
       "\n",
       "    .dataframe thead th {\n",
       "        text-align: left;\n",
       "    }\n",
       "\n",
       "    .dataframe tbody tr th {\n",
       "        vertical-align: top;\n",
       "    }\n",
       "</style>\n",
       "<table border=\"1\" class=\"dataframe\">\n",
       "  <thead>\n",
       "    <tr style=\"text-align: right;\">\n",
       "      <th></th>\n",
       "      <th>class</th>\n",
       "      <th>15E1.2</th>\n",
       "      <th>2'-PDE</th>\n",
       "      <th>7A5</th>\n",
       "      <th>A2BP1</th>\n",
       "      <th>A2LD1</th>\n",
       "      <th>A2M</th>\n",
       "      <th>A3GALT2</th>\n",
       "      <th>A4GALT</th>\n",
       "      <th>A4GNT</th>\n",
       "      <th>...</th>\n",
       "      <th>hCG_2036596</th>\n",
       "      <th>hCG_2040556</th>\n",
       "      <th>hCG_2041321</th>\n",
       "      <th>hCG_21078</th>\n",
       "      <th>hCG_24378</th>\n",
       "      <th>tcag7.1017</th>\n",
       "      <th>tcag7.1196</th>\n",
       "      <th>tcag7.1239</th>\n",
       "      <th>tcag7.441</th>\n",
       "      <th>tcag7.875</th>\n",
       "    </tr>\n",
       "    <tr>\n",
       "      <th>sampleID</th>\n",
       "      <th></th>\n",
       "      <th></th>\n",
       "      <th></th>\n",
       "      <th></th>\n",
       "      <th></th>\n",
       "      <th></th>\n",
       "      <th></th>\n",
       "      <th></th>\n",
       "      <th></th>\n",
       "      <th></th>\n",
       "      <th></th>\n",
       "      <th></th>\n",
       "      <th></th>\n",
       "      <th></th>\n",
       "      <th></th>\n",
       "      <th></th>\n",
       "      <th></th>\n",
       "      <th></th>\n",
       "      <th></th>\n",
       "      <th></th>\n",
       "      <th></th>\n",
       "    </tr>\n",
       "  </thead>\n",
       "  <tbody>\n",
       "    <tr>\n",
       "      <th>NB001</th>\n",
       "      <td>1</td>\n",
       "      <td>10.4660823398966</td>\n",
       "      <td>8.12017940297329</td>\n",
       "      <td>7.65443720698381</td>\n",
       "      <td>10.0509080936873</td>\n",
       "      <td>8.20309820315593</td>\n",
       "      <td>14.4182624953688</td>\n",
       "      <td>7.51202989461802</td>\n",
       "      <td>8.17290332404157</td>\n",
       "      <td>7.83674377743448</td>\n",
       "      <td>...</td>\n",
       "      <td>7.51427397967379</td>\n",
       "      <td>12.2240233524329</td>\n",
       "      <td>11.3010379662009</td>\n",
       "      <td>17.1946446746712</td>\n",
       "      <td>7.78734355655343</td>\n",
       "      <td>9.68634138868197</td>\n",
       "      <td>9.62790886926591</td>\n",
       "      <td>9.77045663004416</td>\n",
       "      <td>11.0687940866714</td>\n",
       "      <td>7.74871674908621</td>\n",
       "    </tr>\n",
       "    <tr>\n",
       "      <th>NB003</th>\n",
       "      <td>1</td>\n",
       "      <td>10.0433806860637</td>\n",
       "      <td>8.17757422776342</td>\n",
       "      <td>7.42951341977216</td>\n",
       "      <td>8.67841313806572</td>\n",
       "      <td>8.56271420871427</td>\n",
       "      <td>14.5628912915083</td>\n",
       "      <td>7.89664935622847</td>\n",
       "      <td>7.90598157605612</td>\n",
       "      <td>7.87573751350664</td>\n",
       "      <td>...</td>\n",
       "      <td>7.41531094816195</td>\n",
       "      <td>11.6086762093186</td>\n",
       "      <td>12.9891229767417</td>\n",
       "      <td>16.824937483969</td>\n",
       "      <td>7.84091838053438</td>\n",
       "      <td>9.50610762719161</td>\n",
       "      <td>8.59908771310479</td>\n",
       "      <td>10.6914122158131</td>\n",
       "      <td>11.7762324667686</td>\n",
       "      <td>7.59113129409545</td>\n",
       "    </tr>\n",
       "    <tr>\n",
       "      <th>NB005</th>\n",
       "      <td>1</td>\n",
       "      <td>10.2530057854764</td>\n",
       "      <td>8.56140102139205</td>\n",
       "      <td>7.60193363768839</td>\n",
       "      <td>10.1466351236573</td>\n",
       "      <td>9.18055741255828</td>\n",
       "      <td>14.9116225840734</td>\n",
       "      <td>7.32180800135239</td>\n",
       "      <td>8.6364756582801</td>\n",
       "      <td>7.82212069015117</td>\n",
       "      <td>...</td>\n",
       "      <td>7.36341271714929</td>\n",
       "      <td>11.8507685690258</td>\n",
       "      <td>11.6897370967802</td>\n",
       "      <td>16.9400103259564</td>\n",
       "      <td>8.15341832373068</td>\n",
       "      <td>9.26875829786858</td>\n",
       "      <td>8.75437759170207</td>\n",
       "      <td>9.62973528075936</td>\n",
       "      <td>11.393549157041</td>\n",
       "      <td>7.76212488528048</td>\n",
       "    </tr>\n",
       "    <tr>\n",
       "      <th>NB011</th>\n",
       "      <td>-1</td>\n",
       "      <td>9.84423602402605</td>\n",
       "      <td>8.10487703077007</td>\n",
       "      <td>7.63407268165348</td>\n",
       "      <td>11.3806517869924</td>\n",
       "      <td>8.1950865978724</td>\n",
       "      <td>16.2796120252589</td>\n",
       "      <td>7.27944016720415</td>\n",
       "      <td>9.07148956663966</td>\n",
       "      <td>7.71679418945883</td>\n",
       "      <td>...</td>\n",
       "      <td>7.41413578241194</td>\n",
       "      <td>12.4242682189311</td>\n",
       "      <td>10.0039830692432</td>\n",
       "      <td>16.4270752279569</td>\n",
       "      <td>7.9263325217217</td>\n",
       "      <td>9.439537729823</td>\n",
       "      <td>9.03795971887767</td>\n",
       "      <td>9.27385566422298</td>\n",
       "      <td>10.484150552028</td>\n",
       "      <td>7.60977795233417</td>\n",
       "    </tr>\n",
       "    <tr>\n",
       "      <th>NB013</th>\n",
       "      <td>1</td>\n",
       "      <td>10.3727277348889</td>\n",
       "      <td>8.1403882657906</td>\n",
       "      <td>7.40405497125135</td>\n",
       "      <td>10.1629373821085</td>\n",
       "      <td>8.53913808430587</td>\n",
       "      <td>16.3779439700201</td>\n",
       "      <td>7.56607110930906</td>\n",
       "      <td>8.63973444135234</td>\n",
       "      <td>7.76226318695502</td>\n",
       "      <td>...</td>\n",
       "      <td>7.3467715034459</td>\n",
       "      <td>12.160724006206</td>\n",
       "      <td>10.7894971055621</td>\n",
       "      <td>16.3510886481422</td>\n",
       "      <td>7.75716621036852</td>\n",
       "      <td>9.68754006399885</td>\n",
       "      <td>9.87856572648481</td>\n",
       "      <td>9.41046362378246</td>\n",
       "      <td>9.976622132251</td>\n",
       "      <td>7.50900041046079</td>\n",
       "    </tr>\n",
       "  </tbody>\n",
       "</table>\n",
       "<p>5 rows × 16394 columns</p>\n",
       "</div>"
      ],
      "text/plain": [
       "         class            15E1.2            2'-PDE               7A5  \\\n",
       "sampleID                                                               \n",
       "NB001        1  10.4660823398966  8.12017940297329  7.65443720698381   \n",
       "NB003        1  10.0433806860637  8.17757422776342  7.42951341977216   \n",
       "NB005        1  10.2530057854764  8.56140102139205  7.60193363768839   \n",
       "NB011       -1  9.84423602402605  8.10487703077007  7.63407268165348   \n",
       "NB013        1  10.3727277348889   8.1403882657906  7.40405497125135   \n",
       "\n",
       "                     A2BP1             A2LD1               A2M  \\\n",
       "sampleID                                                         \n",
       "NB001     10.0509080936873  8.20309820315593  14.4182624953688   \n",
       "NB003     8.67841313806572  8.56271420871427  14.5628912915083   \n",
       "NB005     10.1466351236573  9.18055741255828  14.9116225840734   \n",
       "NB011     11.3806517869924   8.1950865978724  16.2796120252589   \n",
       "NB013     10.1629373821085  8.53913808430587  16.3779439700201   \n",
       "\n",
       "                   A3GALT2            A4GALT             A4GNT  \\\n",
       "sampleID                                                         \n",
       "NB001     7.51202989461802  8.17290332404157  7.83674377743448   \n",
       "NB003     7.89664935622847  7.90598157605612  7.87573751350664   \n",
       "NB005     7.32180800135239   8.6364756582801  7.82212069015117   \n",
       "NB011     7.27944016720415  9.07148956663966  7.71679418945883   \n",
       "NB013     7.56607110930906  8.63973444135234  7.76226318695502   \n",
       "\n",
       "                ...              hCG_2036596       hCG_2040556  \\\n",
       "sampleID        ...                                              \n",
       "NB001           ...         7.51427397967379  12.2240233524329   \n",
       "NB003           ...         7.41531094816195  11.6086762093186   \n",
       "NB005           ...         7.36341271714929  11.8507685690258   \n",
       "NB011           ...         7.41413578241194  12.4242682189311   \n",
       "NB013           ...          7.3467715034459   12.160724006206   \n",
       "\n",
       "               hCG_2041321         hCG_21078         hCG_24378  \\\n",
       "sampleID                                                         \n",
       "NB001     11.3010379662009  17.1946446746712  7.78734355655343   \n",
       "NB003     12.9891229767417   16.824937483969  7.84091838053438   \n",
       "NB005     11.6897370967802  16.9400103259564  8.15341832373068   \n",
       "NB011     10.0039830692432  16.4270752279569   7.9263325217217   \n",
       "NB013     10.7894971055621  16.3510886481422  7.75716621036852   \n",
       "\n",
       "                tcag7.1017        tcag7.1196        tcag7.1239  \\\n",
       "sampleID                                                         \n",
       "NB001     9.68634138868197  9.62790886926591  9.77045663004416   \n",
       "NB003     9.50610762719161  8.59908771310479  10.6914122158131   \n",
       "NB005     9.26875829786858  8.75437759170207  9.62973528075936   \n",
       "NB011       9.439537729823  9.03795971887767  9.27385566422298   \n",
       "NB013     9.68754006399885  9.87856572648481  9.41046362378246   \n",
       "\n",
       "                 tcag7.441         tcag7.875  \n",
       "sampleID                                      \n",
       "NB001     11.0687940866714  7.74871674908621  \n",
       "NB003     11.7762324667686  7.59113129409545  \n",
       "NB005      11.393549157041  7.76212488528048  \n",
       "NB011      10.484150552028  7.60977795233417  \n",
       "NB013       9.976622132251  7.50900041046079  \n",
       "\n",
       "[5 rows x 16394 columns]"
      ]
     },
     "execution_count": 5,
     "metadata": {},
     "output_type": "execute_result"
    }
   ],
   "source": [
    "data_tr.head()"
   ]
  },
  {
   "cell_type": "markdown",
   "metadata": {},
   "source": [
    "We can access the sample IDs..."
   ]
  },
  {
   "cell_type": "code",
   "execution_count": 6,
   "metadata": {},
   "outputs": [
    {
     "data": {
      "text/plain": [
       "Index(['NB001', 'NB003', 'NB005', 'NB011', 'NB013', 'NB017', 'NB019', 'NB021',\n",
       "       'NB023', 'NB025',\n",
       "       ...\n",
       "       'NB407', 'NB417', 'NB421', 'NB471', 'NB473', 'NB475', 'NB479', 'NB493',\n",
       "       'NB495', 'NB497'],\n",
       "      dtype='object', name='sampleID', length=136)"
      ]
     },
     "execution_count": 6,
     "metadata": {},
     "output_type": "execute_result"
    }
   ],
   "source": [
    "data_tr.index"
   ]
  },
  {
   "cell_type": "markdown",
   "metadata": {},
   "source": [
    "... and the column names:"
   ]
  },
  {
   "cell_type": "code",
   "execution_count": 7,
   "metadata": {},
   "outputs": [
    {
     "data": {
      "text/plain": [
       "Index(['class', '15E1.2', '2'-PDE', '7A5', 'A2BP1', 'A2LD1', 'A2M', 'A3GALT2',\n",
       "       'A4GALT', 'A4GNT',\n",
       "       ...\n",
       "       'hCG_2036596', 'hCG_2040556', 'hCG_2041321', 'hCG_21078', 'hCG_24378',\n",
       "       'tcag7.1017', 'tcag7.1196', 'tcag7.1239', 'tcag7.441', 'tcag7.875'],\n",
       "      dtype='object', length=16394)"
      ]
     },
     "execution_count": 7,
     "metadata": {},
     "output_type": "execute_result"
    }
   ],
   "source": [
    "data_tr.columns"
   ]
  },
  {
   "cell_type": "markdown",
   "metadata": {},
   "source": [
    "For the remaining part of this hands-on, we need the data to be stored in a Numpy array:"
   ]
  },
  {
   "cell_type": "code",
   "execution_count": 8,
   "metadata": {},
   "outputs": [
    {
     "data": {
      "text/plain": [
       "array([['1', '10.4660823398966', '8.12017940297329', ...,\n",
       "        '9.77045663004416', '11.0687940866714', '7.74871674908621'],\n",
       "       ['1', '10.0433806860637', '8.17757422776342', ...,\n",
       "        '10.6914122158131', '11.7762324667686', '7.59113129409545'],\n",
       "       ['1', '10.2530057854764', '8.56140102139205', ...,\n",
       "        '9.62973528075936', '11.393549157041', '7.76212488528048'],\n",
       "       ..., \n",
       "       ['-1', '10.7036121907914', '8.42702475206297', ...,\n",
       "        '8.91154367794673', '11.0976939394133', '7.78686127608124'],\n",
       "       ['-1', '10.3028795005347', '8.45896335302739', ...,\n",
       "        '8.85007775037209', '10.9116334161916', '7.6552693845856'],\n",
       "       ['-1', '10.3380479968946', '8.38656507560188', ...,\n",
       "        '9.14019817308736', '11.0500652343464', '7.9009225112065']], dtype=object)"
      ]
     },
     "execution_count": 8,
     "metadata": {},
     "output_type": "execute_result"
    }
   ],
   "source": [
    "data_tr.values"
   ]
  },
  {
   "cell_type": "markdown",
   "metadata": {},
   "source": [
    "This keeps the class column as well.\n",
    "\n",
    "But...\n",
    "\n",
    "We need to separate the class from the data, so let's recreate our array by dropping the class column from the original dataframe:"
   ]
  },
  {
   "cell_type": "code",
   "execution_count": 9,
   "metadata": {},
   "outputs": [
    {
     "data": {
      "text/plain": [
       "array([['10.4660823398966', '8.12017940297329', '7.65443720698381', ...,\n",
       "        '9.77045663004416', '11.0687940866714', '7.74871674908621'],\n",
       "       ['10.0433806860637', '8.17757422776342', '7.42951341977216', ...,\n",
       "        '10.6914122158131', '11.7762324667686', '7.59113129409545'],\n",
       "       ['10.2530057854764', '8.56140102139205', '7.60193363768839', ...,\n",
       "        '9.62973528075936', '11.393549157041', '7.76212488528048'],\n",
       "       ..., \n",
       "       ['10.7036121907914', '8.42702475206297', '7.43950137883741', ...,\n",
       "        '8.91154367794673', '11.0976939394133', '7.78686127608124'],\n",
       "       ['10.3028795005347', '8.45896335302739', '7.42238170822497', ...,\n",
       "        '8.85007775037209', '10.9116334161916', '7.6552693845856'],\n",
       "       ['10.3380479968946', '8.38656507560188', '7.4919361204715', ...,\n",
       "        '9.14019817308736', '11.0500652343464', '7.9009225112065']], dtype=object)"
      ]
     },
     "execution_count": 9,
     "metadata": {},
     "output_type": "execute_result"
    }
   ],
   "source": [
    "data_tr.values[:, 1:]"
   ]
  },
  {
   "cell_type": "markdown",
   "metadata": {},
   "source": [
    "Let's set the dtype to float and save the array to x_tr:"
   ]
  },
  {
   "cell_type": "code",
   "execution_count": 10,
   "metadata": {
    "collapsed": true
   },
   "outputs": [],
   "source": [
    "x_tr = data_tr.values[:, 1:].astype(float)"
   ]
  },
  {
   "cell_type": "code",
   "execution_count": 11,
   "metadata": {},
   "outputs": [
    {
     "data": {
      "text/plain": [
       "array([[ 10.46608234,   8.1201794 ,   7.65443721, ...,   9.77045663,\n",
       "         11.06879409,   7.74871675],\n",
       "       [ 10.04338069,   8.17757423,   7.42951342, ...,  10.69141222,\n",
       "         11.77623247,   7.59113129],\n",
       "       [ 10.25300579,   8.56140102,   7.60193364, ...,   9.62973528,\n",
       "         11.39354916,   7.76212489],\n",
       "       ..., \n",
       "       [ 10.70361219,   8.42702475,   7.43950138, ...,   8.91154368,\n",
       "         11.09769394,   7.78686128],\n",
       "       [ 10.3028795 ,   8.45896335,   7.42238171, ...,   8.85007775,\n",
       "         10.91163342,   7.65526938],\n",
       "       [ 10.338048  ,   8.38656508,   7.49193612, ...,   9.14019817,\n",
       "         11.05006523,   7.90092251]])"
      ]
     },
     "execution_count": 11,
     "metadata": {},
     "output_type": "execute_result"
    }
   ],
   "source": [
    "x_tr"
   ]
  },
  {
   "cell_type": "markdown",
   "metadata": {},
   "source": [
    "Save the class column in another Numpy integer array:"
   ]
  },
  {
   "cell_type": "code",
   "execution_count": 12,
   "metadata": {
    "collapsed": true
   },
   "outputs": [],
   "source": [
    "y_tr = data_tr[\"class\"].values.astype(int)"
   ]
  },
  {
   "cell_type": "code",
   "execution_count": 13,
   "metadata": {},
   "outputs": [
    {
     "data": {
      "text/plain": [
       "array([ 1,  1,  1, -1,  1, -1, -1, -1, -1, -1, -1, -1, -1, -1, -1, -1, -1,\n",
       "       -1, -1, -1, -1, -1, -1, -1, -1, -1,  1, -1, -1, -1, -1, -1, -1, -1,\n",
       "       -1,  1, -1, -1, -1, -1,  1, -1, -1, -1, -1,  1, -1, -1, -1, -1, -1,\n",
       "       -1, -1, -1,  1, -1, -1, -1,  1,  1, -1, -1, -1, -1, -1, -1, -1, -1,\n",
       "       -1, -1, -1, -1, -1,  1,  1,  1,  1,  1,  1,  1,  1, -1, -1, -1, -1,\n",
       "       -1,  1,  1, -1, -1, -1, -1,  1, -1, -1, -1,  1,  1,  1, -1,  1,  1,\n",
       "        1,  1,  1,  1, -1, -1,  1, -1,  1, -1, -1, -1,  1,  1,  1,  1,  1,\n",
       "        1,  1,  1,  1, -1, -1,  1,  1, -1, -1, -1, -1,  1, -1, -1, -1, -1])"
      ]
     },
     "execution_count": 13,
     "metadata": {},
     "output_type": "execute_result"
    }
   ],
   "source": [
    "y_tr"
   ]
  },
  {
   "cell_type": "markdown",
   "metadata": {},
   "source": [
    "---\n",
    "\n",
    "### Quick recap\n",
    "\n",
    "- y_tr = 1 indicates **unfavorable** neuroblastoma samples (**bad** outcome)\n",
    "- y_tr = -1 indicates **favorable** neuroblastoma samples (**good** outcome)\n",
    "\n",
    "---"
   ]
  },
  {
   "cell_type": "markdown",
   "metadata": {},
   "source": [
    "Extract feature and sample names:"
   ]
  },
  {
   "cell_type": "code",
   "execution_count": 14,
   "metadata": {
    "collapsed": true
   },
   "outputs": [],
   "source": [
    "feat_tr = data_tr.columns[1:].values.astype(str)\n",
    "samp_tr = data_tr.index.values.astype(str)"
   ]
  },
  {
   "cell_type": "code",
   "execution_count": 15,
   "metadata": {},
   "outputs": [
    {
     "data": {
      "text/plain": [
       "array(['NB001', 'NB003', 'NB005', 'NB011', 'NB013', 'NB017', 'NB019',\n",
       "       'NB021', 'NB023', 'NB025', 'NB027', 'NB029', 'NB031', 'NB033',\n",
       "       'NB035', 'NB037', 'NB039', 'NB043', 'NB045', 'NB047', 'NB049',\n",
       "       'NB051', 'NB053', 'NB055', 'NB057', 'NB059', 'NB069', 'NB071',\n",
       "       'NB095', 'NB097', 'NB099', 'NB101', 'NB105', 'NB111', 'NB115',\n",
       "       'NB119', 'NB121', 'NB123', 'NB125', 'NB131', 'NB137', 'NB139',\n",
       "       'NB141', 'NB145', 'NB147', 'NB149', 'NB151', 'NB153', 'NB155',\n",
       "       'NB157', 'NB159', 'NB161', 'NB165', 'NB167', 'NB169', 'NB171',\n",
       "       'NB183', 'NB185', 'NB195', 'NB197', 'NB199', 'NB203', 'NB205',\n",
       "       'NB207', 'NB209', 'NB211', 'NB213', 'NB215', 'NB217', 'NB219',\n",
       "       'NB225', 'NB229', 'NB237', 'NB245', 'NB255', 'NB257', 'NB259',\n",
       "       'NB263', 'NB267', 'NB269', 'NB271', 'NB275', 'NB277', 'NB279',\n",
       "       'NB281', 'NB283', 'NB287', 'NB289', 'NB291', 'NB299', 'NB301',\n",
       "       'NB303', 'NB305', 'NB307', 'NB315', 'NB317', 'NB319', 'NB321',\n",
       "       'NB323', 'NB325', 'NB327', 'NB331', 'NB333', 'NB335', 'NB337',\n",
       "       'NB339', 'NB345', 'NB347', 'NB353', 'NB355', 'NB359', 'NB363',\n",
       "       'NB365', 'NB367', 'NB369', 'NB371', 'NB373', 'NB375', 'NB377',\n",
       "       'NB381', 'NB383', 'NB385', 'NB393', 'NB395', 'NB397', 'NB403',\n",
       "       'NB407', 'NB417', 'NB421', 'NB471', 'NB473', 'NB475', 'NB479',\n",
       "       'NB493', 'NB495', 'NB497'],\n",
       "      dtype='<U5')"
      ]
     },
     "execution_count": 15,
     "metadata": {},
     "output_type": "execute_result"
    }
   ],
   "source": [
    "samp_tr"
   ]
  },
  {
   "cell_type": "markdown",
   "metadata": {},
   "source": [
    "Now load the test set data in a Pandas dataframe and create the Numpy arrays for data and labels."
   ]
  },
  {
   "cell_type": "code",
   "execution_count": null,
   "metadata": {
    "collapsed": true
   },
   "outputs": [],
   "source": [
    "# Your code here..."
   ]
  },
  {
   "cell_type": "code",
   "execution_count": null,
   "metadata": {
    "collapsed": true
   },
   "outputs": [],
   "source": [
    "# %load sol1.py"
   ]
  },
  {
   "cell_type": "code",
   "execution_count": null,
   "metadata": {
    "collapsed": true
   },
   "outputs": [],
   "source": [
    "x_ts.shape"
   ]
  },
  {
   "cell_type": "markdown",
   "metadata": {},
   "source": [
    "# Principal Component Analysis"
   ]
  },
  {
   "cell_type": "code",
   "execution_count": 16,
   "metadata": {
    "collapsed": true
   },
   "outputs": [],
   "source": [
    "from sklearn.decomposition import PCA"
   ]
  },
  {
   "cell_type": "code",
   "execution_count": 17,
   "metadata": {
    "collapsed": true
   },
   "outputs": [],
   "source": [
    "pca = PCA(n_components=2)"
   ]
  },
  {
   "cell_type": "code",
   "execution_count": 18,
   "metadata": {
    "collapsed": true
   },
   "outputs": [],
   "source": [
    "z_tr = pca.fit_transform(x_tr)"
   ]
  },
  {
   "cell_type": "code",
   "execution_count": 19,
   "metadata": {},
   "outputs": [
    {
     "name": "stdout",
     "output_type": "stream",
     "text": [
      "[ 0.15726095  0.08871027]\n"
     ]
    }
   ],
   "source": [
    "print(pca.explained_variance_ratio_)"
   ]
  },
  {
   "cell_type": "code",
   "execution_count": 20,
   "metadata": {
    "scrolled": true
   },
   "outputs": [
    {
     "data": {
      "image/png": "[encoded data removed]",
      "text/plain": [
       "<matplotlib.figure.Figure at 0x1b5502597b8>"
      ]
     },
     "metadata": {},
     "output_type": "display_data"
    }
   ],
   "source": [
    "plt.figure()\n",
    "plt.scatter(z_tr[y_tr == 1, 0], z_tr[y_tr == 1, 1], color=\"r\")\n",
    "plt.scatter(z_tr[y_tr == -1, 0], z_tr[y_tr == -1, 1], color=\"b\")\n",
    "plt.title(\"PCA of Train data\")\n",
    "plt.show()"
   ]
  },
  {
   "cell_type": "markdown",
   "metadata": {
    "collapsed": true
   },
   "source": [
    "Apply the transformation to the test data:"
   ]
  },
  {
   "cell_type": "code",
   "execution_count": 21,
   "metadata": {},
   "outputs": [
    {
     "ename": "NameError",
     "evalue": "name 'x_ts' is not defined",
     "output_type": "error",
     "traceback": [
      "\u001b[1;31m---------------------------------------------------------------------------\u001b[0m",
      "\u001b[1;31mNameError\u001b[0m                                 Traceback (most recent call last)",
      "\u001b[1;32m<ipython-input-21-a89bab69e998>\u001b[0m in \u001b[0;36m<module>\u001b[1;34m()\u001b[0m\n\u001b[1;32m----> 1\u001b[1;33m \u001b[0mz_ts\u001b[0m \u001b[1;33m=\u001b[0m \u001b[0mpca\u001b[0m\u001b[1;33m.\u001b[0m\u001b[0mtransform\u001b[0m\u001b[1;33m(\u001b[0m\u001b[0mx_ts\u001b[0m\u001b[1;33m)\u001b[0m\u001b[1;33m\u001b[0m\u001b[0m\n\u001b[0m",
      "\u001b[1;31mNameError\u001b[0m: name 'x_ts' is not defined"
     ]
    }
   ],
   "source": [
    "z_ts = pca.transform(x_ts)"
   ]
  },
  {
   "cell_type": "code",
   "execution_count": 22,
   "metadata": {
    "scrolled": false
   },
   "outputs": [
    {
     "ename": "NameError",
     "evalue": "name 'z_ts' is not defined",
     "output_type": "error",
     "traceback": [
      "\u001b[1;31m---------------------------------------------------------------------------\u001b[0m",
      "\u001b[1;31mNameError\u001b[0m                                 Traceback (most recent call last)",
      "\u001b[1;32m<ipython-input-22-b67c20da9bb6>\u001b[0m in \u001b[0;36m<module>\u001b[1;34m()\u001b[0m\n\u001b[0;32m      1\u001b[0m \u001b[0mplt\u001b[0m\u001b[1;33m.\u001b[0m\u001b[0mfigure\u001b[0m\u001b[1;33m(\u001b[0m\u001b[1;33m)\u001b[0m\u001b[1;33m\u001b[0m\u001b[0m\n\u001b[1;32m----> 2\u001b[1;33m \u001b[0mplt\u001b[0m\u001b[1;33m.\u001b[0m\u001b[0mscatter\u001b[0m\u001b[1;33m(\u001b[0m\u001b[0mz_ts\u001b[0m\u001b[1;33m[\u001b[0m\u001b[0my_ts\u001b[0m \u001b[1;33m==\u001b[0m \u001b[1;36m1\u001b[0m\u001b[1;33m,\u001b[0m \u001b[1;36m0\u001b[0m\u001b[1;33m]\u001b[0m\u001b[1;33m,\u001b[0m \u001b[0mz_ts\u001b[0m\u001b[1;33m[\u001b[0m\u001b[0my_ts\u001b[0m \u001b[1;33m==\u001b[0m \u001b[1;36m1\u001b[0m\u001b[1;33m,\u001b[0m \u001b[1;36m1\u001b[0m\u001b[1;33m]\u001b[0m\u001b[1;33m,\u001b[0m \u001b[0mcolor\u001b[0m\u001b[1;33m=\u001b[0m\u001b[1;34m\"r\"\u001b[0m\u001b[1;33m)\u001b[0m\u001b[1;33m\u001b[0m\u001b[0m\n\u001b[0m\u001b[0;32m      3\u001b[0m \u001b[0mplt\u001b[0m\u001b[1;33m.\u001b[0m\u001b[0mscatter\u001b[0m\u001b[1;33m(\u001b[0m\u001b[0mz_ts\u001b[0m\u001b[1;33m[\u001b[0m\u001b[0my_ts\u001b[0m \u001b[1;33m==\u001b[0m \u001b[1;33m-\u001b[0m\u001b[1;36m1\u001b[0m\u001b[1;33m,\u001b[0m \u001b[1;36m0\u001b[0m\u001b[1;33m]\u001b[0m\u001b[1;33m,\u001b[0m \u001b[0mz_ts\u001b[0m\u001b[1;33m[\u001b[0m\u001b[0my_ts\u001b[0m \u001b[1;33m==\u001b[0m \u001b[1;33m-\u001b[0m\u001b[1;36m1\u001b[0m\u001b[1;33m,\u001b[0m \u001b[1;36m1\u001b[0m\u001b[1;33m]\u001b[0m\u001b[1;33m,\u001b[0m \u001b[0mcolor\u001b[0m\u001b[1;33m=\u001b[0m\u001b[1;34m\"b\"\u001b[0m\u001b[1;33m)\u001b[0m\u001b[1;33m\u001b[0m\u001b[0m\n\u001b[0;32m      4\u001b[0m \u001b[0mplt\u001b[0m\u001b[1;33m.\u001b[0m\u001b[0mtitle\u001b[0m\u001b[1;33m(\u001b[0m\u001b[1;34m\"PCA transformation applied to Test data\"\u001b[0m\u001b[1;33m)\u001b[0m\u001b[1;33m\u001b[0m\u001b[0m\n\u001b[0;32m      5\u001b[0m \u001b[0mplt\u001b[0m\u001b[1;33m.\u001b[0m\u001b[0mshow\u001b[0m\u001b[1;33m(\u001b[0m\u001b[1;33m)\u001b[0m\u001b[1;33m\u001b[0m\u001b[0m\n",
      "\u001b[1;31mNameError\u001b[0m: name 'z_ts' is not defined"
     ]
    },
    {
     "data": {
      "text/plain": [
       "<matplotlib.figure.Figure at 0x1b5502590b8>"
      ]
     },
     "metadata": {},
     "output_type": "display_data"
    }
   ],
   "source": [
    "plt.figure()\n",
    "plt.scatter(z_ts[y_ts == 1, 0], z_ts[y_ts == 1, 1], color=\"r\")\n",
    "plt.scatter(z_ts[y_ts == -1, 0], z_ts[y_ts == -1, 1], color=\"b\")\n",
    "plt.title(\"PCA transformation applied to Test data\")\n",
    "plt.show()"
   ]
  },
  {
   "cell_type": "markdown",
   "metadata": {},
   "source": [
    "# Supervised Learning"
   ]
  },
  {
   "cell_type": "code",
   "execution_count": 23,
   "metadata": {
    "collapsed": true
   },
   "outputs": [],
   "source": [
    "from sklearn.ensemble import RandomForestClassifier"
   ]
  },
  {
   "cell_type": "code",
   "execution_count": 24,
   "metadata": {},
   "outputs": [
    {
     "data": {
      "text/plain": [
       "RandomForestClassifier(bootstrap=True, class_weight=None, criterion='gini',\n",
       "            max_depth=None, max_features='auto', max_leaf_nodes=None,\n",
       "            min_impurity_decrease=0.0, min_impurity_split=None,\n",
       "            min_samples_leaf=1, min_samples_split=2,\n",
       "            min_weight_fraction_leaf=0.0, n_estimators=500, n_jobs=1,\n",
       "            oob_score=False, random_state=None, verbose=0,\n",
       "            warm_start=False)"
      ]
     },
     "execution_count": 24,
     "metadata": {},
     "output_type": "execute_result"
    }
   ],
   "source": [
    "clf = RandomForestClassifier(n_estimators=500)\n",
    "clf.fit(x_tr, y_tr)"
   ]
  },
  {
   "cell_type": "code",
   "execution_count": 25,
   "metadata": {},
   "outputs": [
    {
     "ename": "NameError",
     "evalue": "name 'x_ts' is not defined",
     "output_type": "error",
     "traceback": [
      "\u001b[1;31m---------------------------------------------------------------------------\u001b[0m",
      "\u001b[1;31mNameError\u001b[0m                                 Traceback (most recent call last)",
      "\u001b[1;32m<ipython-input-25-23d6e5a76003>\u001b[0m in \u001b[0;36m<module>\u001b[1;34m()\u001b[0m\n\u001b[1;32m----> 1\u001b[1;33m \u001b[0my_pred\u001b[0m \u001b[1;33m=\u001b[0m \u001b[0mclf\u001b[0m\u001b[1;33m.\u001b[0m\u001b[0mpredict\u001b[0m\u001b[1;33m(\u001b[0m\u001b[0mx_ts\u001b[0m\u001b[1;33m)\u001b[0m\u001b[1;33m\u001b[0m\u001b[0m\n\u001b[0m",
      "\u001b[1;31mNameError\u001b[0m: name 'x_ts' is not defined"
     ]
    }
   ],
   "source": [
    "y_pred = clf.predict(x_ts)"
   ]
  },
  {
   "cell_type": "markdown",
   "metadata": {},
   "source": [
    "## Feature ranking"
   ]
  },
  {
   "cell_type": "markdown",
   "metadata": {},
   "source": [
    "We will sort the features according to the Random Forest importances (Gini impurity index), and make a simple stem plot of the first 10."
   ]
  },
  {
   "cell_type": "code",
   "execution_count": null,
   "metadata": {
    "collapsed": true
   },
   "outputs": [],
   "source": [
    "importances = clf.feature_importances_\n",
    "indices = np.argsort(importances)[::-1]\n",
    "\n",
    "print(\"Feature ranking:\")\n",
    "for f in range(10):\n",
    "    print(\"%d. feature %s (%f)\" % (f + 1, feat_tr[indices[f]], importances[indices[f]]))\n"
   ]
  },
  {
   "cell_type": "code",
   "execution_count": null,
   "metadata": {
    "collapsed": true
   },
   "outputs": [],
   "source": [
    "plt.figure()\n",
    "plt.title(\"Feature importances\")\n",
    "plt.stem(range(10), importances[indices[:10]], align=\"center\")\n",
    "plt.xticks(range(10), feat_tr[indices[:10]], rotation=\"vertical\")\n",
    "plt.xlim([-1, 10])\n",
    "plt.show()"
   ]
  },
  {
   "cell_type": "markdown",
   "metadata": {},
   "source": [
    "## Evaluating performance\n",
    "\n",
    "Compute and print the confusion matrix.\n",
    "\n",
    "### Recap\n",
    "\n",
    "In this example, the first row is class -1, so the confusion matrix will look like:\n",
    "\n",
    "|      |  |  Predicted  |    |\n",
    "|------|-----------|----|----|\n",
    "|      |           | -1 | 1  |\n",
    "| True | -1        | TN | FP |\n",
    "|      | 1         | FN | TP |\n"
   ]
  },
  {
   "cell_type": "code",
   "execution_count": null,
   "metadata": {
    "collapsed": true
   },
   "outputs": [],
   "source": [
    "from sklearn.metrics import confusion_matrix\n",
    "conf = confusion_matrix(y_ts, y_pred)\n",
    "conf"
   ]
  },
  {
   "cell_type": "markdown",
   "metadata": {},
   "source": [
    "The total number of class -1 test samples should be equal to the sum of the first row of the confusion matrix, i.e., TN + FP:"
   ]
  },
  {
   "cell_type": "code",
   "execution_count": null,
   "metadata": {
    "collapsed": true
   },
   "outputs": [],
   "source": [
    "np.sum(y_ts==-1)"
   ]
  },
  {
   "cell_type": "markdown",
   "metadata": {},
   "source": [
    "Similarly for class 1, i.e., FN + TP:"
   ]
  },
  {
   "cell_type": "code",
   "execution_count": null,
   "metadata": {
    "collapsed": true
   },
   "outputs": [],
   "source": [
    "np.sum(y_ts==1)"
   ]
  },
  {
   "cell_type": "markdown",
   "metadata": {},
   "source": [
    "Compute the Accuracy, remembering the formula: \n",
    "\n",
    "ACC = (TN + TP) / (TN + TP + FN + FP)"
   ]
  },
  {
   "cell_type": "markdown",
   "metadata": {},
   "source": [
    "TN and TP are on the main diagonal of our conf Numpy array."
   ]
  },
  {
   "cell_type": "code",
   "execution_count": null,
   "metadata": {
    "collapsed": true
   },
   "outputs": [],
   "source": [
    "(conf[0,0] + conf[1,1])/y_ts.shape[0]"
   ]
  },
  {
   "cell_type": "markdown",
   "metadata": {},
   "source": [
    "Luckily Scikit-learn provides a quite handy alternative:"
   ]
  },
  {
   "cell_type": "code",
   "execution_count": null,
   "metadata": {
    "collapsed": true
   },
   "outputs": [],
   "source": [
    "from sklearn.metrics import accuracy_score\n",
    "accuracy_score(y_ts, y_pred)"
   ]
  },
  {
   "cell_type": "markdown",
   "metadata": {},
   "source": [
    "Compute the MCC (again, Scikit-learn comes to our help):"
   ]
  },
  {
   "cell_type": "code",
   "execution_count": null,
   "metadata": {
    "collapsed": true
   },
   "outputs": [],
   "source": [
    "from sklearn.metrics import matthews_corrcoef\n",
    "matthews_corrcoef(y_ts, y_pred)"
   ]
  },
  {
   "cell_type": "markdown",
   "metadata": {},
   "source": [
    "# Data partitioning"
   ]
  },
  {
   "cell_type": "markdown",
   "metadata": {},
   "source": [
    "Simple random split of a dataset in two groups (hold-out strategy), leaving 25% of the samples for model evaluation:"
   ]
  },
  {
   "cell_type": "code",
   "execution_count": null,
   "metadata": {
    "collapsed": true
   },
   "outputs": [],
   "source": [
    "from sklearn.model_selection import train_test_split\n",
    "X_train, X_test, y_train, y_test = train_test_split(x_tr, y_tr, test_size=0.25, random_state=0)"
   ]
  },
  {
   "cell_type": "markdown",
   "metadata": {},
   "source": [
    "## Cross-validation\n",
    "\n",
    "Split the training dataset, x_tr, with a 5-fold partitioning schema, keeping the class label proportions across folds:"
   ]
  },
  {
   "cell_type": "code",
   "execution_count": null,
   "metadata": {
    "collapsed": true
   },
   "outputs": [],
   "source": [
    "from sklearn.model_selection import StratifiedKFold\n",
    "skf = StratifiedKFold(n_splits=5, shuffle=True, random_state=42)\n",
    "\n",
    "N = skf.get_n_splits(x_tr, y_tr)\n",
    "\n",
    "for i, (idx_tr, idx_ts) in enumerate(skf.split(x_tr, y_tr)):\n",
    "    print(\"Fold %d / %d\" % (i+1, N))\n",
    "    X_train, Y_train = x_tr[idx_tr], y_tr[idx_tr]\n",
    "    X_test, Y_test = x_tr[idx_ts], y_tr[idx_ts]\n",
    "    print(\"TRAIN size:\", X_train.shape[0])\n",
    "    print(\"-- class 1:\", np.sum(Y_train==1), \"class -1:\", np.sum(Y_train==-1))\n",
    "    print(\"TEST size:\", X_test.shape[0])\n",
    "    print(\"-- class 1:\", np.sum(Y_test==1), \"class -1:\", np.sum(Y_test==-1))\n",
    "    print()\n"
   ]
  },
  {
   "cell_type": "markdown",
   "metadata": {
    "collapsed": true
   },
   "source": [
    "## Implementing a basic Data Analysis Protocol"
   ]
  },
  {
   "cell_type": "markdown",
   "metadata": {},
   "source": [
    "As a final example, we implement a 10x 5-fold Cross-validation schema with a simple feature ranking. \n",
    "\n",
    "For each CV iteration, a Random Forest model is trained on the training portion of the data, then features are ranked according to the Random Forest importances; a series of Random Forest models are built upon an increasing number of the ranked features (i.e., 1, 5, 10, etc.) and evaluated on the test data in terms of MCC.\n",
    "\n",
    "The average MCC over the 10x5 CV iterations is computed for the different feature set sizes. We choose the feature set size that maximizes the average MCC.\n",
    "\n",
    "This basic example is meant as a starting point for building more complex pipelines, i.e., with more feature steps, (bootstrapped) confidence intervals for MCC, computation of a unified ranked feature list (as in Jurman et al., _Bioinformatics_, 2008)."
   ]
  },
  {
   "cell_type": "code",
   "execution_count": null,
   "metadata": {
    "collapsed": true
   },
   "outputs": [],
   "source": [
    "CV_N = 10 # number of CV iterations\n",
    "CV_K = 5 # number of CV folds\n",
    "FEATURE_STEPS = [1, 5, 10, 25, 50, 100]\n",
    "# prepare output MCC array\n",
    "MCC = np.empty((CV_K*CV_N, len(FEATURE_STEPS)))\n",
    "         "
   ]
  },
  {
   "cell_type": "code",
   "execution_count": null,
   "metadata": {
    "collapsed": true,
    "scrolled": false
   },
   "outputs": [],
   "source": [
    "for n in range(CV_N):\n",
    "    print(\"~~~ Iteration %d ~~~\" % (n+1))\n",
    "    skf = StratifiedKFold(n_splits=CV_K, shuffle=True, random_state=n)\n",
    "    for i, (idx_tr, idx_ts) in enumerate(skf.split(x_tr, y_tr)):\n",
    "        print(\"Fold %d\" % (i+1))\n",
    "        X_train, Y_train = x_tr[idx_tr], y_tr[idx_tr]\n",
    "        X_test, Y_test = x_tr[idx_ts], y_tr[idx_ts]\n",
    "        \n",
    "        clf = RandomForestClassifier(n_estimators=500, random_state=n)\n",
    "        clf.fit(X_train, Y_train)\n",
    "        ranking = np.argsort( clf.feature_importances_ )[::-1]\n",
    "        \n",
    "        for j, s in enumerate(FEATURE_STEPS):\n",
    "            v = ranking[:s] # consider the top s ranked features\n",
    "            X_tr_fs, X_ts_fs = X_train[:, v], X_test[:, v] # extract them from internal train and test data\n",
    "            clf.fit(X_tr_fs, Y_train) # train a classifier on the reduced train dataset\n",
    "            YP = clf.predict(X_ts_fs) # predict on the reduced test dataset\n",
    "            MCC[(n*CV_K)+i, j] = matthews_corrcoef(Y_test, YP) # evaluate the model performance\n",
    "        \n",
    "    print()\n"
   ]
  },
  {
   "cell_type": "code",
   "execution_count": null,
   "metadata": {
    "collapsed": true
   },
   "outputs": [],
   "source": [
    "np.save(\"MCC_CV\", MCC)\n",
    "# MCC = np.load(\"MCC_CV.npy\")"
   ]
  },
  {
   "cell_type": "code",
   "execution_count": null,
   "metadata": {
    "collapsed": true
   },
   "outputs": [],
   "source": [
    "MCC_avg = np.mean(MCC, axis=0)\n",
    "MCC_max = np.max(MCC_avg)\n",
    "n_feats = FEATURE_STEPS[np.argmax(MCC_avg)]"
   ]
  },
  {
   "cell_type": "code",
   "execution_count": null,
   "metadata": {
    "collapsed": true
   },
   "outputs": [],
   "source": [
    "# average MCC for each feature step\n",
    "for nf, mcc in zip(FEATURE_STEPS, MCC_avg):\n",
    "    print(\"nf = %d, MCC = %.2f\" % (nf, mcc))\n",
    "\n",
    "print()\n",
    "\n",
    "print(\"Best MCC = %.2f with %d features\" % (MCC_max, n_feats))\n"
   ]
  },
  {
   "cell_type": "code",
   "execution_count": null,
   "metadata": {
    "collapsed": true
   },
   "outputs": [],
   "source": [
    "plt.figure()\n",
    "plt.title(\"Average MCC\")\n",
    "plt.plot(FEATURE_STEPS, MCC_avg, 'o-')\n",
    "plt.xlabel(\"Feature steps\")\n",
    "plt.ylabel(\"MCC\")\n",
    "plt.show()"
   ]
  },
  {
   "cell_type": "code",
   "execution_count": null,
   "metadata": {
    "collapsed": true
   },
   "outputs": [],
   "source": []
  }
 ],
 "metadata": {
  "kernelspec": {
   "display_name": "Python 3",
   "language": "python",
   "name": "python3"
  },
  "language_info": {
   "codemirror_mode": {
    "name": "ipython",
    "version": 3
   },
   "file_extension": ".py",
   "mimetype": "text/x-python",
   "name": "python",
   "nbconvert_exporter": "python",
   "pygments_lexer": "ipython3",
   "version": "3.6.3"
  }
 },
 "nbformat": 4,
 "nbformat_minor": 1
}
